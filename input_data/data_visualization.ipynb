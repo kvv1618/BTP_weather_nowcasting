{
 "cells": [
  {
   "cell_type": "code",
   "execution_count": 3,
   "metadata": {},
   "outputs": [],
   "source": [
    "import warnings\n",
    "warnings.filterwarnings('ignore')"
   ]
  },
  {
   "cell_type": "code",
   "execution_count": 4,
   "metadata": {},
   "outputs": [
    {
     "name": "stdout",
     "output_type": "stream",
     "text": [
      "\n",
      "## You are using the Python ARM Radar Toolkit (Py-ART), an open source\n",
      "## library for working with weather radar data. Py-ART is partly\n",
      "## supported by the U.S. Department of Energy as part of the Atmospheric\n",
      "## Radiation Measurement (ARM) Climate Research Facility, an Office of\n",
      "## Science user facility.\n",
      "##\n",
      "## If you use this software to prepare a publication, please cite:\n",
      "##\n",
      "##     JJ Helmus and SM Collis, JORS 2016, doi: 10.5334/jors.119\n",
      "\n"
     ]
    }
   ],
   "source": [
    "import pyart\n",
    "import matplotlib.pyplot as plt\n",
    "import os\n",
    "from PIL import Image\n",
    "import glob\n",
    "import numpy as np\n",
    "import scipy.io"
   ]
  },
  {
   "cell_type": "code",
   "execution_count": 3,
   "metadata": {},
   "outputs": [],
   "source": [
    "def plot_data(infilename, outpng):\n",
    "  radar = pyart.io.read_nexrad_archive(infilename)\n",
    "  display = pyart.graph.RadarMapDisplay(radar)\n",
    "  fig = plt.figure(figsize=(10, 10))\n",
    "  display.plot_ppi_map('reflectivity')\n",
    "  fig.savefig(outpng)\n",
    "  plt.close(fig)"
   ]
  },
  {
   "cell_type": "code",
   "execution_count": 4,
   "metadata": {},
   "outputs": [],
   "source": [
    "plot_data('Del_rio_data/KDFX20220701_000041_V06','fig1')"
   ]
  },
  {
   "cell_type": "code",
   "execution_count": 5,
   "metadata": {},
   "outputs": [],
   "source": [
    "del_files=os.listdir(\"Del_rio_data\")\n",
    "new_braunfels=os.listdir(\"New_Braunfels\")"
   ]
  },
  {
   "cell_type": "code",
   "execution_count": null,
   "metadata": {},
   "outputs": [],
   "source": [
    "images1 = \"del_rio_radar_plots\"\n",
    "i = 0\n",
    "for volumefile in del_files[:118]:\n",
    "    try: \n",
    "        plot_data(os.path.join(\"Del_rio_data\",volumefile), os.path.join(images1,\"fig\"+str(i)))\n",
    "    except:\n",
    "        continue\n",
    "    i+=1"
   ]
  },
  {
   "cell_type": "code",
   "execution_count": null,
   "metadata": {},
   "outputs": [],
   "source": [
    "print(\"Radar images for Del_rio generated\")"
   ]
  },
  {
   "cell_type": "code",
   "execution_count": 9,
   "metadata": {},
   "outputs": [],
   "source": [
    "images1 = \"new_braunfels_radar_plots\"\n",
    "i = 0\n",
    "for volumefile in new_braunfels[:118]:\n",
    "    try: \n",
    "        plot_data(os.path.join(\"New_Braunfels\",volumefile), os.path.join(images1,\"fig\"+str(i)))\n",
    "    except:                                                                                                                                                                                                                                                                                                                                                                                                                                                                                                                                                                                                             \n",
    "        continue\n",
    "    i+=1"
   ]
  },
  {
   "cell_type": "code",
   "execution_count": null,
   "metadata": {},
   "outputs": [],
   "source": [
    "print(\"Radar images for new_braunfels generated\")"
   ]
  },
  {
   "cell_type": "code",
   "execution_count": 6,
   "metadata": {},
   "outputs": [],
   "source": [
    "def png_gif(png_path, gif_name):\n",
    "    frames = []\n",
    "    imgs = glob.glob(png_path)\n",
    "    for i in imgs:\n",
    "        new_frame = Image.open(i)\n",
    "        frames.append(new_frame)\n",
    "\n",
    "    frames[0].save(gif_name, format='GIF',\n",
    "               append_images=frames[1:],\n",
    "               save_all=True,\n",
    "               duration=300, loop=0)"
   ]
  },
  {
   "cell_type": "code",
   "execution_count": 10,
   "metadata": {},
   "outputs": [],
   "source": [
    "png_gif(\"del_rio_radar_plots/*.png\", \"del_rio_gif.gif\")\n",
    "png_gif(\"new_braunfels_radar_plots/*.png\", \"new_braunfels_gif.gif\")"
   ]
  },
  {
   "cell_type": "code",
   "execution_count": 8,
   "metadata": {},
   "outputs": [],
   "source": [
    "def to_cartesian_array(radar, size):\n",
    "    '''\n",
    "    Returns:\n",
    "        numpy array with the reflectivity data in cartesian coordinates\n",
    "        '''\n",
    "    grids = pyart.map.grid_from_radars(                             #  convert to cartesian\n",
    "        radar, \n",
    "        grid_shape = (1, size[0], size[1]),                          # define shape of frames (first dim is Z)\n",
    "        grid_limits = ((radar.altitude['data'][0], 20000.0),         # z\n",
    "                       (-150000, 150000),                            # y\n",
    "                       (-150000, 150000)),                           # x\n",
    "        fields=['reflectivity'],                                     # which data\n",
    "        gridding_algo= 'map_gates_to_grid',                          # gridding algorithm\n",
    "        weighting_function='BARNES2')                                # interpolation fx\n",
    "    img_mtx = grids.fields['reflectivity']['data'][0,:,:]            # grab the reflectivity data (2D image)\n",
    "    img_mtx = np.clip(img_mtx,0,70)                                  # truncate the dbz to lower and upper bounds to produce same colored images when normalizing \n",
    "    img_mtx = np.ma.filled(img_mtx, fill_value=0)                    # complate missing values with 0dBZ\n",
    "    img_mtx = np.rint(img_mtx/70*255)                                # re-scale to 0-255\n",
    "    img_mtx = img_mtx.astype('uint8')                                # use uint8 to be efficient\n",
    "    return img_mtx\n",
    "\n",
    "def to_numpy_array(path, size =(64,64)):\n",
    "    files_c = len(os.listdir(path))\n",
    "    data   = np.zeros((1,files_c,size[0],size[1]))\n",
    "    titles = np.empty(files_c, dtype=object)\n",
    "    i = 0\n",
    "    for file in os.listdir(path):\n",
    "        try:\n",
    "            radar = pyart.io.read_nexrad_archive(os.path.join(path, file)) # open the ar2v file\n",
    "        except:\n",
    "            continue\n",
    "        data[0,i] = to_cartesian_array(radar, size)\n",
    "        titles[i] = file\n",
    "        i+=1\n",
    "    np.save(os.path.join(\"array_input\", path), data)\n",
    "    return \n"
   ]
  },
  {
   "cell_type": "code",
   "execution_count": 9,
   "metadata": {},
   "outputs": [],
   "source": [
    "to_numpy_array(\"Del_rio_data\")\n",
    "to_numpy_array(\"New_Braunfels\")"
   ]
  },
  {
   "cell_type": "code",
   "execution_count": 13,
   "metadata": {},
   "outputs": [],
   "source": [
    "del_rio_history = np.load(os.path.join(\"array_input\", \"Del_rio_data.npy\"))\n",
    "New_Braunfels_history = np.load(os.path.join(\"array_input\", \"New_Braunfels.npy\"))"
   ]
  },
  {
   "cell_type": "code",
   "execution_count": 17,
   "metadata": {},
   "outputs": [
    {
     "name": "stdout",
     "output_type": "stream",
     "text": [
      "(1, 186, 64, 64)\n",
      "(1, 138, 64, 64)\n"
     ]
    }
   ],
   "source": [
    "print(del_rio_history.shape)\n",
    "print(New_Braunfels_history.shape)"
   ]
  },
  {
   "cell_type": "code",
   "execution_count": 21,
   "metadata": {},
   "outputs": [
    {
     "data": {
      "text/plain": [
       "array([[ 0.,  0.,  0., ...,  0.,  0.,  0.],\n",
       "       [ 0.,  0.,  0., ...,  0.,  0.,  0.],\n",
       "       [ 0.,  0.,  0., ..., 26.,  0.,  0.],\n",
       "       ...,\n",
       "       [41., 46., 54., ...,  0.,  0.,  0.],\n",
       "       [61., 68., 76., ...,  0.,  0.,  0.],\n",
       "       [75., 87., 93., ...,  0.,  0.,  0.]])"
      ]
     },
     "execution_count": 21,
     "metadata": {},
     "output_type": "execute_result"
    }
   ],
   "source": [
    "New_Braunfels_history[0][0]"
   ]
  }
 ],
 "metadata": {
  "kernelspec": {
   "display_name": "Python 3.8.10 ('BTP': venv)",
   "language": "python",
   "name": "python3"
  },
  "language_info": {
   "codemirror_mode": {
    "name": "ipython",
    "version": 3
   },
   "file_extension": ".py",
   "mimetype": "text/x-python",
   "name": "python",
   "nbconvert_exporter": "python",
   "pygments_lexer": "ipython3",
   "version": "3.8.10"
  },
  "orig_nbformat": 4,
  "vscode": {
   "interpreter": {
    "hash": "577482fee326091ea713db108c300d8621cb63b99a9d09a960c56d7fa44a7ed4"
   }
  }
 },
 "nbformat": 4,
 "nbformat_minor": 2
}
