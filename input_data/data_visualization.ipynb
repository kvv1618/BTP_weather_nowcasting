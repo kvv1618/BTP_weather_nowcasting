{
 "cells": [
  {
   "cell_type": "code",
   "execution_count": 1,
   "metadata": {},
   "outputs": [
    {
     "name": "stdout",
     "output_type": "stream",
     "text": [
      "\n",
      "## You are using the Python ARM Radar Toolkit (Py-ART), an open source\n",
      "## library for working with weather radar data. Py-ART is partly\n",
      "## supported by the U.S. Department of Energy as part of the Atmospheric\n",
      "## Radiation Measurement (ARM) Climate Research Facility, an Office of\n",
      "## Science user facility.\n",
      "##\n",
      "## If you use this software to prepare a publication, please cite:\n",
      "##\n",
      "##     JJ Helmus and SM Collis, JORS 2016, doi: 10.5334/jors.119\n",
      "\n"
     ]
    }
   ],
   "source": [
    "import pyart\n",
    "import matplotlib.pyplot as plt\n",
    "import os"
   ]
  },
  {
   "cell_type": "code",
   "execution_count": 2,
   "metadata": {},
   "outputs": [],
   "source": [
    "import warnings\n",
    "warnings.filterwarnings('ignore')"
   ]
  },
  {
   "cell_type": "code",
   "execution_count": 3,
   "metadata": {},
   "outputs": [],
   "source": [
    "def plot_data(infilename, outpng):\n",
    "  radar = pyart.io.read_nexrad_archive(infilename)\n",
    "  display = pyart.graph.RadarMapDisplay(radar)\n",
    "  fig = plt.figure(figsize=(10, 10))\n",
    "  display.plot_ppi_map('reflectivity')\n",
    "  fig.savefig(outpng)\n",
    "  plt.close(fig)"
   ]
  },
  {
   "cell_type": "code",
   "execution_count": 4,
   "metadata": {},
   "outputs": [],
   "source": [
    "plot_data('Del_rio_data/KDFX20220701_000041_V06','fig1')"
   ]
  },
  {
   "cell_type": "code",
   "execution_count": 5,
   "metadata": {},
   "outputs": [],
   "source": [
    "del_files=os.listdir(\"Del_rio_data\")\n",
    "new_braunfels=os.listdir(\"New_Braunfels\")"
   ]
  },
  {
   "cell_type": "code",
   "execution_count": 7,
   "metadata": {},
   "outputs": [
    {
     "name": "stdout",
     "output_type": "stream",
     "text": [
      "186\n",
      "138\n"
     ]
    }
   ],
   "source": [
    "print(len(del_files))\n",
    "print(len(new_braunfels))"
   ]
  },
  {
   "cell_type": "code",
   "execution_count": null,
   "metadata": {},
   "outputs": [],
   "source": [
    "images1 = \"del_rio_radar_plots\"\n",
    "i = 0\n",
    "for volumefile in del_files[:118]:\n",
    "    try: \n",
    "        plot_data(os.path.join(\"Del_rio_data\",volumefile), os.path.join(images1,\"fig\"+str(i)))\n",
    "    except:\n",
    "        continue\n",
    "    i+=1"
   ]
  },
  {
   "cell_type": "code",
   "execution_count": null,
   "metadata": {},
   "outputs": [],
   "source": [
    "print(\"Radar images for Del_rio generated\")"
   ]
  },
  {
   "cell_type": "code",
   "execution_count": 9,
   "metadata": {},
   "outputs": [],
   "source": [
    "images1 = \"new_braunfels_radar_plots\"\n",
    "i = 0\n",
    "for volumefile in new_braunfels[:118]:\n",
    "    try: \n",
    "        plot_data(os.path.join(\"New_Braunfels\",volumefile), os.path.join(images1,\"fig\"+str(i)))\n",
    "    except:                                                                                                                                                                                                                                                                                                                                                                                                                                                                                                                                                                                                             \n",
    "        continue\n",
    "    i+=1"
   ]
  },
  {
   "cell_type": "code",
   "execution_count": null,
   "metadata": {},
   "outputs": [],
   "source": [
    "print(\"Radar images for new_braunfels generated\")"
   ]
  },
  {
   "cell_type": "code",
   "execution_count": null,
   "metadata": {},
   "outputs": [],
   "source": []
  }
 ],
 "metadata": {
  "kernelspec": {
   "display_name": "Python 3.8.10 ('BTP': venv)",
   "language": "python",
   "name": "python3"
  },
  "language_info": {
   "codemirror_mode": {
    "name": "ipython",
    "version": 3
   },
   "file_extension": ".py",
   "mimetype": "text/x-python",
   "name": "python",
   "nbconvert_exporter": "python",
   "pygments_lexer": "ipython3",
   "version": "3.8.10"
  },
  "orig_nbformat": 4,
  "vscode": {
   "interpreter": {
    "hash": "577482fee326091ea713db108c300d8621cb63b99a9d09a960c56d7fa44a7ed4"
   }
  }
 },
 "nbformat": 4,
 "nbformat_minor": 2
}
