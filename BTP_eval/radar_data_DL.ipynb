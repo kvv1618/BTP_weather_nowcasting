{
 "cells": [
  {
   "cell_type": "code",
   "execution_count": 1,
   "metadata": {},
   "outputs": [],
   "source": [
    "import warnings\n",
    "warnings.filterwarnings('ignore')"
   ]
  },
  {
   "cell_type": "code",
   "execution_count": 2,
   "metadata": {},
   "outputs": [
    {
     "name": "stderr",
     "output_type": "stream",
     "text": [
      "2022-09-26 11:32:08.818610: I tensorflow/core/platform/cpu_feature_guard.cc:193] This TensorFlow binary is optimized with oneAPI Deep Neural Network Library (oneDNN) to use the following CPU instructions in performance-critical operations:  AVX2 FMA\n",
      "To enable them in other operations, rebuild TensorFlow with the appropriate compiler flags.\n",
      "2022-09-26 11:32:08.988242: W tensorflow/stream_executor/platform/default/dso_loader.cc:64] Could not load dynamic library 'libcudart.so.11.0'; dlerror: libcudart.so.11.0: cannot open shared object file: No such file or directory\n",
      "2022-09-26 11:32:08.988270: I tensorflow/stream_executor/cuda/cudart_stub.cc:29] Ignore above cudart dlerror if you do not have a GPU set up on your machine.\n",
      "2022-09-26 11:32:09.015336: E tensorflow/stream_executor/cuda/cuda_blas.cc:2981] Unable to register cuBLAS factory: Attempting to register factory for plugin cuBLAS when one has already been registered\n",
      "2022-09-26 11:32:09.691932: W tensorflow/stream_executor/platform/default/dso_loader.cc:64] Could not load dynamic library 'libnvinfer.so.7'; dlerror: libnvinfer.so.7: cannot open shared object file: No such file or directory\n",
      "2022-09-26 11:32:09.691989: W tensorflow/stream_executor/platform/default/dso_loader.cc:64] Could not load dynamic library 'libnvinfer_plugin.so.7'; dlerror: libnvinfer_plugin.so.7: cannot open shared object file: No such file or directory\n",
      "2022-09-26 11:32:09.691997: W tensorflow/compiler/tf2tensorrt/utils/py_utils.cc:38] TF-TRT Warning: Cannot dlopen some TensorRT libraries. If you would like to use Nvidia GPU with TensorRT, please make sure the missing libraries mentioned above are installed properly.\n"
     ]
    }
   ],
   "source": [
    "import os\n",
    "import numpy as np\n",
    "import tensorflow as tf"
   ]
  },
  {
   "cell_type": "code",
   "execution_count": 3,
   "metadata": {},
   "outputs": [],
   "source": [
    "new_braunfels_data_path = os.path.join(\"..\",\"input_data\",\"array_input\",\"New_Braunfels.npy\")\n",
    "del_rio_data_path = os.path.join(\"..\",\"input_data\",\"array_input\",\"Del_rio_data.npy\")"
   ]
  },
  {
   "cell_type": "code",
   "execution_count": 4,
   "metadata": {},
   "outputs": [],
   "source": [
    "del_rio_history = np.load(del_rio_data_path)\n",
    "New_Braunfels_history = np.load(new_braunfels_data_path)"
   ]
  },
  {
   "cell_type": "code",
   "execution_count": 5,
   "metadata": {},
   "outputs": [
    {
     "name": "stdout",
     "output_type": "stream",
     "text": [
      "(1, 138, 64, 64)\n"
     ]
    }
   ],
   "source": [
    "print(New_Braunfels_history.shape)"
   ]
  },
  {
   "cell_type": "code",
   "execution_count": 6,
   "metadata": {},
   "outputs": [],
   "source": [
    "def make_time_arr(history):\n",
    "    time_arr = []\n",
    "    for j in range(64):\n",
    "        for i in range(64):\n",
    "            arr = []\n",
    "            for l in range(history.shape[1]):\n",
    "                arr.append(history[0][l][j][i])\n",
    "            time_arr.append(arr)\n",
    "    return time_arr"
   ]
  },
  {
   "cell_type": "code",
   "execution_count": 7,
   "metadata": {},
   "outputs": [],
   "source": [
    "new_braunfels_time_arr = make_time_arr(New_Braunfels_history)\n",
    "del_rio__time_arr = make_time_arr(del_rio_history)"
   ]
  },
  {
   "cell_type": "code",
   "execution_count": 8,
   "metadata": {},
   "outputs": [
    {
     "name": "stdout",
     "output_type": "stream",
     "text": [
      "138\n",
      "186\n"
     ]
    }
   ],
   "source": [
    "print(len(new_braunfels_time_arr[0]))\n",
    "print(len(del_rio__time_arr[0]))"
   ]
  },
  {
   "cell_type": "code",
   "execution_count": 12,
   "metadata": {},
   "outputs": [
    {
     "name": "stdout",
     "output_type": "stream",
     "text": [
      "(4096, 138)\n",
      "(4096, 186)\n"
     ]
    }
   ],
   "source": [
    "new_braunfels_data = np.array(new_braunfels_time_arr)\n",
    "del_rio_data = np.array(del_rio__time_arr)\n",
    "print(new_braunfels_data.shape)\n",
    "print(del_rio_data.shape)"
   ]
  },
  {
   "cell_type": "code",
   "execution_count": 13,
   "metadata": {},
   "outputs": [],
   "source": [
    "def LSTM_model(data):\n",
    "    for i in range(0,len(data),32):\n",
    "        batch = data[i:i+32]\n",
    "        batch_reshaped = np.reshape(batch, (batch.shape[0], batch.shape[1], 1))\n",
    "        lstm = tf.keras.layers.LSTM(10)\n",
    "        output = lstm(batch_reshaped)\n",
    "        \n",
    "        dense_nn = tf.keras.layers.Dense(1)\n",
    "        output = dense_nn(output)\n",
    "        if i==0:\n",
    "            prediction = np.array(output)\n",
    "        else:\n",
    "            prediction = np.concatenate((prediction,output), axis = 0)\n",
    "    print(prediction.shape)\n",
    "    return prediction"
   ]
  },
  {
   "cell_type": "code",
   "execution_count": 14,
   "metadata": {},
   "outputs": [
    {
     "name": "stdout",
     "output_type": "stream",
     "text": [
      "(4096, 1)\n",
      "(4096, 1)\n"
     ]
    }
   ],
   "source": [
    "new_braunfels_prediction = LSTM_model(new_braunfels_data)\n",
    "del_rio_prediction = LSTM_model(del_rio_data)"
   ]
  },
  {
   "cell_type": "code",
   "execution_count": 15,
   "metadata": {},
   "outputs": [],
   "source": [
    "new_braunfels_prediction = np.reshape(new_braunfels_prediction,(64,64))\n",
    "del_rio_prediction = np.reshape(del_rio_prediction,(64,64))"
   ]
  }
 ],
 "metadata": {
  "kernelspec": {
   "display_name": "Python 3.8.10 ('BTP': venv)",
   "language": "python",
   "name": "python3"
  },
  "language_info": {
   "codemirror_mode": {
    "name": "ipython",
    "version": 3
   },
   "file_extension": ".py",
   "mimetype": "text/x-python",
   "name": "python",
   "nbconvert_exporter": "python",
   "pygments_lexer": "ipython3",
   "version": "3.8.10"
  },
  "orig_nbformat": 4,
  "vscode": {
   "interpreter": {
    "hash": "577482fee326091ea713db108c300d8621cb63b99a9d09a960c56d7fa44a7ed4"
   }
  }
 },
 "nbformat": 4,
 "nbformat_minor": 2
}
